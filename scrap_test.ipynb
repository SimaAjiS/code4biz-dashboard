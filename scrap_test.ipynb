{
 "cells": [
  {
   "cell_type": "code",
   "execution_count": 4,
   "outputs": [],
   "source": [
    "from time import sleep\n",
    "\n",
    "\n",
    "from selenium import webdriver\n",
    "from selenium.webdriver.chrome.options import Options\n",
    "from selenium.webdriver.chrome.service import Service\n",
    "from selenium.webdriver.common.by import By\n",
    "from webdriver_manager.chrome import ChromeDriverManager\n",
    "\n",
    "options = Options()\n",
    "# options.add_argument(\"--headless\")\n",
    "options.headless = True\n",
    "options.add_argument(\"--no-sandbox\")\n",
    "options.add_argument(\"--disable-dev-shm-usage\")\n",
    "options.add_argument(\"--disable-gpu\")\n",
    "options.add_argument(\"--disable-features=NetworkService\")\n",
    "options.add_argument(\"--window-size=1920x1080\")\n",
    "options.add_argument(\"--disable-features=VizDisplayCompositor\")\n"
   ],
   "metadata": {
    "collapsed": false,
    "pycharm": {
     "name": "#%%\n"
    }
   }
  },
  {
   "cell_type": "code",
   "execution_count": 5,
   "outputs": [
    {
     "name": "stdout",
     "output_type": "stream",
     "text": [
      "\n"
     ]
    },
    {
     "name": "stderr",
     "output_type": "stream",
     "text": [
      "[WDM] - ====== WebDriver manager ======\n",
      "[WDM] - Current google-chrome version is 103.0.5060\n",
      "[WDM] - Get LATEST chromedriver version for 103.0.5060 google-chrome\n",
      "[WDM] - Driver [C:\\Users\\sgwya\\.wdm\\drivers\\chromedriver\\win32\\103.0.5060.53\\chromedriver.exe] found in cache\n"
     ]
    },
    {
     "name": "stdout",
     "output_type": "stream",
     "text": [
      "OK\n"
     ]
    }
   ],
   "source": [
    "service = Service(ChromeDriverManager().install())\n",
    "\n",
    "# if run_mode == 'ブラウザ起動モード':\n",
    "# ブラウザ起動モード\n",
    "# driver = webdriver.Chrome(service=service)\n",
    "\n",
    "# elif run_mode == 'ヘッドレスモード(不具合)':\n",
    "# ヘッドレスモード\n",
    "options = Options()\n",
    "options.add_argument('--headless')  # for Selenium 3\n",
    "options.headless = True # for Selenium 4\n",
    "driver = webdriver.Chrome(service=service, options=options)\n",
    "\n",
    "    # with webdriver.Chrome(options=options, service_log_path='selenium.log') as driver:\n",
    "    # with webdriver.Chrome(options=options) as driver:\n",
    "url = 'https://school.code4biz.jp/login'\n",
    "\n",
    "# 暗黙的な待機\n",
    "driver.implicitly_wait(3)\n",
    "driver.get(url)\n",
    "\n",
    "# ログインページ処理\n",
    "form = driver.find_element(by=By.CSS_SELECTOR, value='#new_member_session')\n",
    "#member_email\n",
    "login_mail = form.find_element(by=By.NAME, value='member[email]')\n",
    "login_passwd = form.find_element(by=By.NAME, value='member[password]')\n",
    "\n",
    "\n",
    "login_mail.clear()\n",
    "login_passwd.clear()\n",
    "\n",
    "login_mail.send_keys(\"XXXXXX\")\n",
    "login_passwd.send_keys(\"XXXX\")\n",
    "\n",
    "# ログインボタンを押す\n",
    "btn = form.find_element(by=By.TAG_NAME, value='button')\n",
    "btn.click()\n",
    "print('OK')"
   ],
   "metadata": {
    "collapsed": false,
    "pycharm": {
     "name": "#%%\n"
    }
   }
  },
  {
   "cell_type": "code",
   "execution_count": null,
   "outputs": [],
   "source": [],
   "metadata": {
    "collapsed": false,
    "pycharm": {
     "name": "#%%\n"
    }
   }
  }
 ],
 "metadata": {
  "kernelspec": {
   "display_name": "Python 3",
   "language": "python",
   "name": "python3"
  },
  "language_info": {
   "codemirror_mode": {
    "name": "ipython",
    "version": 2
   },
   "file_extension": ".py",
   "mimetype": "text/x-python",
   "name": "python",
   "nbconvert_exporter": "python",
   "pygments_lexer": "ipython2",
   "version": "2.7.6"
  }
 },
 "nbformat": 4,
 "nbformat_minor": 0
}